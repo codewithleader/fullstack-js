{
 "cells": [
  {
   "cell_type": "markdown",
   "metadata": {},
   "source": [
    "# Innecesaria la configuracion adicional en mongoose desde la version 6"
   ]
  },
  {
   "cell_type": "code",
   "execution_count": null,
   "metadata": {
    "vscode": {
     "languageId": "javascript"
    }
   },
   "outputs": [],
   "source": [
    "// No longer necessary:\n",
    "mongoose.set('useFindAndModify', false);\n",
    "\n",
    "await mongoose.connect('mongodb://127.0.0.1:27017/test', {\n",
    "  useNewUrlParser: true, // <-- no longer necessary\n",
    "  useUnifiedTopology: true // <-- no longer necessary\n",
    "});"
   ]
  },
  {
   "cell_type": "markdown",
   "metadata": {},
   "source": [
    "\n",
    "\n",
    "Leer nota en la pagina oficial de monggose:[https://mongoosejs.com/docs/migrating_to_6.html#no-more-deprecation-warning-options](https://mongoosejs.com/docs/migrating_to_6.html#no-more-deprecation-warning-options)"
   ]
  }
 ],
 "metadata": {
  "language_info": {
   "name": "python"
  }
 },
 "nbformat": 4,
 "nbformat_minor": 2
}
